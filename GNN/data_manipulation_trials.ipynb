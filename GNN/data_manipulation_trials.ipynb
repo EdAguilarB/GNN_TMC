{
 "cells": [
  {
   "cell_type": "code",
   "execution_count": 1,
   "metadata": {},
   "outputs": [],
   "source": [
    "import pandas as pd\n",
    "import os\n",
    "import torch\n",
    "from coords_composition_pbc import *\n",
    "from sklearn.preprocessing import minmax_scale\n",
    "from dataset import *\n",
    "from math import sqrt"
   ]
  },
  {
   "cell_type": "code",
   "execution_count": 2,
   "metadata": {},
   "outputs": [
    {
     "data": {
      "text/html": [
       "<div>\n",
       "<style scoped>\n",
       "    .dataframe tbody tr th:only-of-type {\n",
       "        vertical-align: middle;\n",
       "    }\n",
       "\n",
       "    .dataframe tbody tr th {\n",
       "        vertical-align: top;\n",
       "    }\n",
       "\n",
       "    .dataframe thead th {\n",
       "        text-align: right;\n",
       "    }\n",
       "</style>\n",
       "<table border=\"1\" class=\"dataframe\">\n",
       "  <thead>\n",
       "    <tr style=\"text-align: right;\">\n",
       "      <th></th>\n",
       "      <th>dft</th>\n",
       "      <th>c</th>\n",
       "      <th>bv</th>\n",
       "      <th>ang</th>\n",
       "    </tr>\n",
       "  </thead>\n",
       "  <tbody>\n",
       "    <tr>\n",
       "      <th>original_1.vasp</th>\n",
       "      <td>-4642.635361</td>\n",
       "      <td>328</td>\n",
       "      <td>0.57782</td>\n",
       "      <td>28</td>\n",
       "    </tr>\n",
       "    <tr>\n",
       "      <th>original_2.vasp</th>\n",
       "      <td>-4642.616121</td>\n",
       "      <td>328</td>\n",
       "      <td>0.59434</td>\n",
       "      <td>32</td>\n",
       "    </tr>\n",
       "    <tr>\n",
       "      <th>original_3.vasp</th>\n",
       "      <td>-4642.593414</td>\n",
       "      <td>332</td>\n",
       "      <td>0.65032</td>\n",
       "      <td>32</td>\n",
       "    </tr>\n",
       "    <tr>\n",
       "      <th>original_4.vasp</th>\n",
       "      <td>-4642.634047</td>\n",
       "      <td>320</td>\n",
       "      <td>0.58117</td>\n",
       "      <td>30</td>\n",
       "    </tr>\n",
       "    <tr>\n",
       "      <th>original_5.vasp</th>\n",
       "      <td>-4642.573121</td>\n",
       "      <td>328</td>\n",
       "      <td>0.64733</td>\n",
       "      <td>34</td>\n",
       "    </tr>\n",
       "    <tr>\n",
       "      <th>...</th>\n",
       "      <td>...</td>\n",
       "      <td>...</td>\n",
       "      <td>...</td>\n",
       "      <td>...</td>\n",
       "    </tr>\n",
       "    <tr>\n",
       "      <th>ig_new_2.vasp</th>\n",
       "      <td>-4642.764337</td>\n",
       "      <td>300</td>\n",
       "      <td>0.31877</td>\n",
       "      <td>30</td>\n",
       "    </tr>\n",
       "    <tr>\n",
       "      <th>ig_new_3.vasp</th>\n",
       "      <td>-4642.771399</td>\n",
       "      <td>304</td>\n",
       "      <td>0.33505</td>\n",
       "      <td>26</td>\n",
       "    </tr>\n",
       "    <tr>\n",
       "      <th>ig_extra_5.vasp</th>\n",
       "      <td>-4642.779639</td>\n",
       "      <td>296</td>\n",
       "      <td>0.27402</td>\n",
       "      <td>30</td>\n",
       "    </tr>\n",
       "    <tr>\n",
       "      <th>ig_extra_6.vasp</th>\n",
       "      <td>-4642.782334</td>\n",
       "      <td>300</td>\n",
       "      <td>0.34220</td>\n",
       "      <td>28</td>\n",
       "    </tr>\n",
       "    <tr>\n",
       "      <th>ig_extra_7.vasp</th>\n",
       "      <td>-4642.714361</td>\n",
       "      <td>320</td>\n",
       "      <td>0.49830</td>\n",
       "      <td>24</td>\n",
       "    </tr>\n",
       "  </tbody>\n",
       "</table>\n",
       "<p>1046 rows × 4 columns</p>\n",
       "</div>"
      ],
      "text/plain": [
       "                         dft    c       bv  ang\n",
       "original_1.vasp -4642.635361  328  0.57782   28\n",
       "original_2.vasp -4642.616121  328  0.59434   32\n",
       "original_3.vasp -4642.593414  332  0.65032   32\n",
       "original_4.vasp -4642.634047  320  0.58117   30\n",
       "original_5.vasp -4642.573121  328  0.64733   34\n",
       "...                      ...  ...      ...  ...\n",
       "ig_new_2.vasp   -4642.764337  300  0.31877   30\n",
       "ig_new_3.vasp   -4642.771399  304  0.33505   26\n",
       "ig_extra_5.vasp -4642.779639  296  0.27402   30\n",
       "ig_extra_6.vasp -4642.782334  300  0.34220   28\n",
       "ig_extra_7.vasp -4642.714361  320  0.49830   24\n",
       "\n",
       "[1046 rows x 4 columns]"
      ]
     },
     "execution_count": 2,
     "metadata": {},
     "output_type": "execute_result"
    }
   ],
   "source": [
    "energy = pd.read_csv('/Users/ed_aguilar/Documents/PhD_Documents/Experiments/Metal_carbides/Experiments_periodicity/NewData/Data/energy_descriptors_all.csv', sep=',',index_col=0)\n",
    "energy"
   ]
  },
  {
   "cell_type": "code",
   "execution_count": 3,
   "metadata": {},
   "outputs": [],
   "source": [
    "energy['dft'] = (energy['dft']-min(energy['dft']))*13.605693122994\n",
    "energy = energy['dft']"
   ]
  },
  {
   "cell_type": "code",
   "execution_count": 4,
   "metadata": {},
   "outputs": [
    {
     "data": {
      "text/plain": [
       "3.592505988787065"
      ]
     },
     "execution_count": 4,
     "metadata": {},
     "output_type": "execute_result"
    }
   ],
   "source": [
    "energy.loc['original_193.vasp']"
   ]
  },
  {
   "cell_type": "code",
   "execution_count": 5,
   "metadata": {},
   "outputs": [
    {
     "data": {
      "text/plain": [
       "original_1.vasp    2.849779\n",
       "original_2.vasp    3.111555\n",
       "original_3.vasp    3.420498\n",
       "original_4.vasp    2.867653\n",
       "original_5.vasp    3.696588\n",
       "                     ...   \n",
       "ig_new_2.vasp      1.094973\n",
       "ig_new_3.vasp      0.998883\n",
       "ig_extra_5.vasp    0.886777\n",
       "ig_extra_6.vasp    0.850111\n",
       "ig_extra_7.vasp    1.774921\n",
       "Name: dft, Length: 1046, dtype: float64"
      ]
     },
     "execution_count": 5,
     "metadata": {},
     "output_type": "execute_result"
    }
   ],
   "source": [
    "energy"
   ]
  },
  {
   "cell_type": "code",
   "execution_count": 6,
   "metadata": {},
   "outputs": [],
   "source": [
    "data = MoC_c_dir(root = '/Users/ed_aguilar/Documents/PhD_Documents/Experiments/Metal_carbides/Experiments_periodicity/NewData/Data')"
   ]
  },
  {
   "cell_type": "code",
   "execution_count": 7,
   "metadata": {},
   "outputs": [
    {
     "data": {
      "text/plain": [
       "1046"
      ]
     },
     "execution_count": 7,
     "metadata": {},
     "output_type": "execute_result"
    }
   ],
   "source": [
    "data.len()"
   ]
  },
  {
   "cell_type": "code",
   "execution_count": 15,
   "metadata": {},
   "outputs": [
    {
     "data": {
      "text/html": [
       "<div>\n",
       "<style scoped>\n",
       "    .dataframe tbody tr th:only-of-type {\n",
       "        vertical-align: middle;\n",
       "    }\n",
       "\n",
       "    .dataframe tbody tr th {\n",
       "        vertical-align: top;\n",
       "    }\n",
       "\n",
       "    .dataframe thead th {\n",
       "        text-align: right;\n",
       "    }\n",
       "</style>\n",
       "<table border=\"1\" class=\"dataframe\">\n",
       "  <thead>\n",
       "    <tr style=\"text-align: right;\">\n",
       "      <th></th>\n",
       "      <th>Mo C</th>\n",
       "    </tr>\n",
       "  </thead>\n",
       "  <tbody>\n",
       "    <tr>\n",
       "      <th>0</th>\n",
       "      <td>32   16</td>\n",
       "    </tr>\n",
       "    <tr>\n",
       "      <th>1</th>\n",
       "      <td>Cartesian</td>\n",
       "    </tr>\n",
       "    <tr>\n",
       "      <th>2</th>\n",
       "      <td>-0.02060405   0.01632000  -0.01632000</td>\n",
       "    </tr>\n",
       "    <tr>\n",
       "      <th>3</th>\n",
       "      <td>-0.01465168  -0.00161983   4.26789894</td>\n",
       "    </tr>\n",
       "    <tr>\n",
       "      <th>4</th>\n",
       "      <td>-0.01465168   4.27210106   0.00161983</td>\n",
       "    </tr>\n",
       "  </tbody>\n",
       "</table>\n",
       "</div>"
      ],
      "text/plain": [
       "                                     Mo C\n",
       "0                                 32   16\n",
       "1                               Cartesian\n",
       "2   -0.02060405   0.01632000  -0.01632000\n",
       "3   -0.01465168  -0.00161983   4.26789894\n",
       "4   -0.01465168   4.27210106   0.00161983"
      ]
     },
     "execution_count": 15,
     "metadata": {},
     "output_type": "execute_result"
    }
   ],
   "source": [
    "df = pd.read_csv('/Users/ed/Documents/PhD_Documents/Experiments/Metal_carbides/Experiments_periodicity/NewData/Data/raw/luis_696.vasp'\\\n",
    "                 , header = 5)\n",
    "df = df.rename(columns = {df.columns[0]: 'Mo C'})\n",
    "df.head()"
   ]
  },
  {
   "cell_type": "code",
   "execution_count": 16,
   "metadata": {},
   "outputs": [
    {
     "data": {
      "text/html": [
       "<div>\n",
       "<style scoped>\n",
       "    .dataframe tbody tr th:only-of-type {\n",
       "        vertical-align: middle;\n",
       "    }\n",
       "\n",
       "    .dataframe tbody tr th {\n",
       "        vertical-align: top;\n",
       "    }\n",
       "\n",
       "    .dataframe thead th {\n",
       "        text-align: right;\n",
       "    }\n",
       "</style>\n",
       "<table border=\"1\" class=\"dataframe\">\n",
       "  <thead>\n",
       "    <tr style=\"text-align: right;\">\n",
       "      <th></th>\n",
       "      <th>Mo</th>\n",
       "      <th>C</th>\n",
       "    </tr>\n",
       "  </thead>\n",
       "  <tbody>\n",
       "    <tr>\n",
       "      <th>Mo C</th>\n",
       "      <td>32</td>\n",
       "      <td>16</td>\n",
       "    </tr>\n",
       "  </tbody>\n",
       "</table>\n",
       "</div>"
      ],
      "text/plain": [
       "      Mo   C\n",
       "Mo C  32  16"
      ]
     },
     "execution_count": 16,
     "metadata": {},
     "output_type": "execute_result"
    }
   ],
   "source": [
    "composition = get_composition(df=df)\n",
    "composition"
   ]
  },
  {
   "cell_type": "code",
   "execution_count": 17,
   "metadata": {},
   "outputs": [],
   "source": [
    "Mo_y = [1 for _ in range(composition['Mo'][0])]\n",
    "Mo_n = [0 for _ in range(composition['C'][0])]\n",
    "Mo = Mo_y + Mo_n"
   ]
  },
  {
   "cell_type": "code",
   "execution_count": 18,
   "metadata": {},
   "outputs": [],
   "source": [
    "C_n = [Mo_y[i] - 1 for i in range(len(Mo_y))]\n",
    "C_y = [Mo_n[i] + 1 for i in range(len(Mo_n))]\n",
    "C = C_n + C_y"
   ]
  },
  {
   "cell_type": "code",
   "execution_count": 19,
   "metadata": {},
   "outputs": [],
   "source": [
    "Mo = np.expand_dims(np.asarray(Mo), axis = 1)\n",
    "C = np.expand_dims(np.asarray(C), axis = 1)"
   ]
  },
  {
   "cell_type": "code",
   "execution_count": 20,
   "metadata": {},
   "outputs": [
    {
     "data": {
      "text/plain": [
       "tensor([[1., 0.],\n",
       "        [1., 0.],\n",
       "        [1., 0.],\n",
       "        [1., 0.],\n",
       "        [1., 0.],\n",
       "        [1., 0.],\n",
       "        [1., 0.],\n",
       "        [1., 0.],\n",
       "        [1., 0.],\n",
       "        [1., 0.],\n",
       "        [1., 0.],\n",
       "        [1., 0.],\n",
       "        [1., 0.],\n",
       "        [1., 0.],\n",
       "        [1., 0.],\n",
       "        [1., 0.],\n",
       "        [1., 0.],\n",
       "        [1., 0.],\n",
       "        [1., 0.],\n",
       "        [1., 0.],\n",
       "        [1., 0.],\n",
       "        [1., 0.],\n",
       "        [1., 0.],\n",
       "        [1., 0.],\n",
       "        [1., 0.],\n",
       "        [1., 0.],\n",
       "        [1., 0.],\n",
       "        [1., 0.],\n",
       "        [1., 0.],\n",
       "        [1., 0.],\n",
       "        [1., 0.],\n",
       "        [1., 0.],\n",
       "        [0., 1.],\n",
       "        [0., 1.],\n",
       "        [0., 1.],\n",
       "        [0., 1.],\n",
       "        [0., 1.],\n",
       "        [0., 1.],\n",
       "        [0., 1.],\n",
       "        [0., 1.],\n",
       "        [0., 1.],\n",
       "        [0., 1.],\n",
       "        [0., 1.],\n",
       "        [0., 1.],\n",
       "        [0., 1.],\n",
       "        [0., 1.],\n",
       "        [0., 1.],\n",
       "        [0., 1.]])"
      ]
     },
     "execution_count": 20,
     "metadata": {},
     "output_type": "execute_result"
    }
   ],
   "source": [
    "feat = np.concatenate([Mo, C], axis = 1)\n",
    "feat = torch.tensor(feat, dtype=torch.float)\n",
    "feat"
   ]
  },
  {
   "cell_type": "code",
   "execution_count": 21,
   "metadata": {},
   "outputs": [
    {
     "data": {
      "text/plain": [
       "array([[-2.06040500e-02,  1.63200000e-02, -1.63200000e-02],\n",
       "       [-1.46516800e-02, -1.61983000e-03,  4.26789894e+00],\n",
       "       [-1.46516800e-02,  4.27210106e+00,  1.61983000e-03],\n",
       "       [-1.29089400e-02,  4.29371485e+00,  4.24628515e+00],\n",
       "       [ 4.28551343e+00, -2.24983400e-02,  2.24983400e-02]])"
      ]
     },
     "execution_count": 21,
     "metadata": {},
     "output_type": "execute_result"
    }
   ],
   "source": [
    "coords = get_coords(df=df)\n",
    "coords[:5,:5]"
   ]
  },
  {
   "cell_type": "code",
   "execution_count": 22,
   "metadata": {},
   "outputs": [
    {
     "data": {
      "text/plain": [
       "tensor([[-2.0604e-02,  1.6320e-02, -1.6320e-02],\n",
       "        [-1.4652e-02, -1.6198e-03,  4.2679e+00],\n",
       "        [-1.4652e-02,  4.2721e+00,  1.6198e-03]], dtype=torch.float64)"
      ]
     },
     "execution_count": 22,
     "metadata": {},
     "output_type": "execute_result"
    }
   ],
   "source": [
    "coords = torch.tensor(coords)\n",
    "coords[:3,:3]"
   ]
  },
  {
   "cell_type": "code",
   "execution_count": 23,
   "metadata": {},
   "outputs": [
    {
     "data": {
      "text/plain": [
       "tensor([[ 1.0000e+00,  0.0000e+00, -2.0604e-02,  1.6320e-02, -1.6320e-02],\n",
       "        [ 1.0000e+00,  0.0000e+00, -1.4652e-02, -1.6198e-03,  4.2679e+00],\n",
       "        [ 1.0000e+00,  0.0000e+00, -1.4652e-02,  4.2721e+00,  1.6198e-03],\n",
       "        [ 1.0000e+00,  0.0000e+00, -1.2909e-02,  4.2937e+00,  4.2463e+00],\n",
       "        [ 1.0000e+00,  0.0000e+00,  4.2855e+00, -2.2498e-02,  2.2498e-02],\n",
       "        [ 1.0000e+00,  0.0000e+00,  4.2823e+00,  9.1374e-03,  4.2589e+00],\n",
       "        [ 1.0000e+00,  0.0000e+00,  4.2823e+00,  4.2811e+00, -9.1374e-03],\n",
       "        [ 1.0000e+00,  0.0000e+00,  4.2720e+00,  4.2633e+00,  4.2767e+00],\n",
       "        [ 1.0000e+00,  0.0000e+00, -7.3692e-02,  2.2084e+00,  2.1484e+00],\n",
       "        [ 1.0000e+00,  0.0000e+00, -8.1123e-02,  2.1432e+00,  6.3968e+00],\n",
       "        [ 1.0000e+00,  0.0000e+00, -6.2275e-02,  6.3394e+00,  2.2006e+00],\n",
       "        [ 1.0000e+00,  0.0000e+00, -7.3692e-02,  6.3916e+00,  6.3316e+00],\n",
       "        [ 1.0000e+00,  0.0000e+00,  4.3275e+00,  2.1874e+00,  2.2043e+00],\n",
       "        [ 1.0000e+00,  0.0000e+00,  4.3198e+00,  2.2012e+00,  6.3388e+00],\n",
       "        [ 1.0000e+00,  0.0000e+00,  4.3496e+00,  6.3290e+00,  2.2110e+00],\n",
       "        [ 1.0000e+00,  0.0000e+00,  4.3275e+00,  6.3357e+00,  6.3526e+00],\n",
       "        [ 1.0000e+00,  0.0000e+00,  2.1659e+00, -1.8819e-02,  2.1404e+00],\n",
       "        [ 1.0000e+00,  0.0000e+00,  2.1416e+00, -3.7291e-03,  6.3985e+00],\n",
       "        [ 1.0000e+00,  0.0000e+00,  2.1321e+00,  4.2818e+00,  2.1411e+00],\n",
       "        [ 1.0000e+00,  0.0000e+00,  2.1594e+00,  4.3046e+00,  6.4016e+00],\n",
       "        [ 1.0000e+00,  0.0000e+00,  6.3890e+00, -1.1677e-02,  2.1433e+00],\n",
       "        [ 1.0000e+00,  0.0000e+00,  6.4104e+00,  4.4889e-03,  6.4037e+00],\n",
       "        [ 1.0000e+00,  0.0000e+00,  6.3993e+00,  4.2731e+00,  2.1410e+00],\n",
       "        [ 1.0000e+00,  0.0000e+00,  6.3672e+00,  4.2779e+00,  6.4034e+00],\n",
       "        [ 1.0000e+00,  0.0000e+00,  2.1416e+00,  2.1415e+00,  3.7291e-03],\n",
       "        [ 1.0000e+00,  0.0000e+00,  2.1594e+00,  2.1384e+00,  4.2354e+00],\n",
       "        [ 1.0000e+00,  0.0000e+00,  2.1659e+00,  6.3996e+00,  1.8819e-02],\n",
       "        [ 1.0000e+00,  0.0000e+00,  2.1321e+00,  6.3989e+00,  4.2582e+00],\n",
       "        [ 1.0000e+00,  0.0000e+00,  6.4104e+00,  2.1363e+00, -4.4889e-03],\n",
       "        [ 1.0000e+00,  0.0000e+00,  6.3672e+00,  2.1366e+00,  4.2621e+00],\n",
       "        [ 1.0000e+00,  0.0000e+00,  6.3890e+00,  6.3967e+00,  1.1677e-02],\n",
       "        [ 1.0000e+00,  0.0000e+00,  6.3993e+00,  6.3990e+00,  4.2669e+00],\n",
       "        [ 0.0000e+00,  1.0000e+00,  2.1344e+00, -9.8196e-04,  9.8196e-04],\n",
       "        [ 0.0000e+00,  1.0000e+00,  2.1493e+00, -1.4231e-02,  4.2725e+00],\n",
       "        [ 0.0000e+00,  1.0000e+00,  2.1493e+00,  4.2675e+00,  1.4231e-02],\n",
       "        [ 0.0000e+00,  1.0000e+00,  2.1591e+00,  4.2795e+00,  4.2605e+00],\n",
       "        [ 0.0000e+00,  1.0000e+00,  6.4062e+00, -3.3994e-03,  3.3994e-03],\n",
       "        [ 0.0000e+00,  1.0000e+00,  6.3931e+00, -1.3295e-02,  4.2735e+00],\n",
       "        [ 0.0000e+00,  1.0000e+00,  6.3931e+00,  4.2665e+00,  1.3295e-02],\n",
       "        [ 0.0000e+00,  1.0000e+00,  6.3804e+00,  4.2791e+00,  4.2609e+00],\n",
       "        [ 0.0000e+00,  1.0000e+00, -7.7338e-03,  2.1431e+00,  2.5838e-02],\n",
       "        [ 0.0000e+00,  1.0000e+00, -2.3880e-03,  2.1379e+00,  4.2499e+00],\n",
       "        [ 0.0000e+00,  1.0000e+00,  4.2901e+00,  6.3884e+00, -9.6954e-03],\n",
       "        [ 0.0000e+00,  1.0000e+00, -7.7338e-03, -2.5838e-02,  6.3969e+00],\n",
       "        [ 0.0000e+00,  1.0000e+00, -2.3880e-03,  4.2901e+00,  6.4021e+00],\n",
       "        [ 0.0000e+00,  1.0000e+00,  4.2901e+00,  9.6954e-03,  2.1516e+00],\n",
       "        [ 0.0000e+00,  1.0000e+00,  2.1861e+00,  2.1471e+00,  6.3929e+00],\n",
       "        [ 0.0000e+00,  1.0000e+00,  2.1162e+00,  6.3917e+00,  2.1483e+00]],\n",
       "       dtype=torch.float64)"
      ]
     },
     "execution_count": 23,
     "metadata": {},
     "output_type": "execute_result"
    }
   ],
   "source": [
    "torch.concat((feat, coords), axis = 1)"
   ]
  },
  {
   "cell_type": "code",
   "execution_count": 24,
   "metadata": {},
   "outputs": [
    {
     "data": {
      "text/html": [
       "<div>\n",
       "<style scoped>\n",
       "    .dataframe tbody tr th:only-of-type {\n",
       "        vertical-align: middle;\n",
       "    }\n",
       "\n",
       "    .dataframe tbody tr th {\n",
       "        vertical-align: top;\n",
       "    }\n",
       "\n",
       "    .dataframe thead th {\n",
       "        text-align: right;\n",
       "    }\n",
       "</style>\n",
       "<table border=\"1\" class=\"dataframe\">\n",
       "  <thead>\n",
       "    <tr style=\"text-align: right;\">\n",
       "      <th></th>\n",
       "      <th>0</th>\n",
       "      <th>1</th>\n",
       "      <th>2</th>\n",
       "      <th>3</th>\n",
       "      <th>4</th>\n",
       "      <th>5</th>\n",
       "      <th>6</th>\n",
       "      <th>7</th>\n",
       "      <th>8</th>\n",
       "      <th>9</th>\n",
       "    </tr>\n",
       "  </thead>\n",
       "  <tbody>\n",
       "    <tr>\n",
       "      <th>0</th>\n",
       "      <td>NaN</td>\n",
       "      <td>2.115865</td>\n",
       "      <td>2.144302</td>\n",
       "      <td>3.012303</td>\n",
       "      <td>2.094602</td>\n",
       "      <td>2.985432</td>\n",
       "      <td>2.992804</td>\n",
       "      <td>3.676391</td>\n",
       "      <td>3.081190</td>\n",
       "      <td>2.127824</td>\n",
       "    </tr>\n",
       "    <tr>\n",
       "      <th>1</th>\n",
       "      <td>2.115865</td>\n",
       "      <td>NaN</td>\n",
       "      <td>3.012279</td>\n",
       "      <td>2.104777</td>\n",
       "      <td>3.008661</td>\n",
       "      <td>2.103107</td>\n",
       "      <td>3.662309</td>\n",
       "      <td>3.004132</td>\n",
       "      <td>3.062662</td>\n",
       "      <td>3.022729</td>\n",
       "    </tr>\n",
       "    <tr>\n",
       "      <th>2</th>\n",
       "      <td>2.144302</td>\n",
       "      <td>3.012279</td>\n",
       "      <td>NaN</td>\n",
       "      <td>2.155444</td>\n",
       "      <td>2.973626</td>\n",
       "      <td>3.685273</td>\n",
       "      <td>2.103107</td>\n",
       "      <td>2.996903</td>\n",
       "      <td>2.978430</td>\n",
       "      <td>2.129901</td>\n",
       "    </tr>\n",
       "    <tr>\n",
       "      <th>3</th>\n",
       "      <td>3.012303</td>\n",
       "      <td>2.104777</td>\n",
       "      <td>2.155444</td>\n",
       "      <td>NaN</td>\n",
       "      <td>3.673513</td>\n",
       "      <td>2.984186</td>\n",
       "      <td>3.004923</td>\n",
       "      <td>2.115499</td>\n",
       "      <td>2.958658</td>\n",
       "      <td>3.041991</td>\n",
       "    </tr>\n",
       "    <tr>\n",
       "      <th>4</th>\n",
       "      <td>2.094602</td>\n",
       "      <td>3.008661</td>\n",
       "      <td>2.973626</td>\n",
       "      <td>3.673513</td>\n",
       "      <td>NaN</td>\n",
       "      <td>2.163879</td>\n",
       "      <td>2.096595</td>\n",
       "      <td>3.012388</td>\n",
       "      <td>3.696065</td>\n",
       "      <td>2.970802</td>\n",
       "    </tr>\n",
       "    <tr>\n",
       "      <th>5</th>\n",
       "      <td>2.985432</td>\n",
       "      <td>2.103107</td>\n",
       "      <td>3.685273</td>\n",
       "      <td>2.984186</td>\n",
       "      <td>2.163879</td>\n",
       "      <td>NaN</td>\n",
       "      <td>3.012276</td>\n",
       "      <td>2.145948</td>\n",
       "      <td>3.669978</td>\n",
       "      <td>3.643177</td>\n",
       "    </tr>\n",
       "    <tr>\n",
       "      <th>6</th>\n",
       "      <td>2.992804</td>\n",
       "      <td>3.662309</td>\n",
       "      <td>2.103107</td>\n",
       "      <td>3.004923</td>\n",
       "      <td>2.096595</td>\n",
       "      <td>3.012276</td>\n",
       "      <td>NaN</td>\n",
       "      <td>2.114251</td>\n",
       "      <td>3.623438</td>\n",
       "      <td>2.952688</td>\n",
       "    </tr>\n",
       "    <tr>\n",
       "      <th>7</th>\n",
       "      <td>3.676391</td>\n",
       "      <td>3.004132</td>\n",
       "      <td>2.996903</td>\n",
       "      <td>2.115499</td>\n",
       "      <td>3.012388</td>\n",
       "      <td>2.145948</td>\n",
       "      <td>2.114251</td>\n",
       "      <td>NaN</td>\n",
       "      <td>3.601755</td>\n",
       "      <td>3.630257</td>\n",
       "    </tr>\n",
       "    <tr>\n",
       "      <th>8</th>\n",
       "      <td>3.081190</td>\n",
       "      <td>3.062662</td>\n",
       "      <td>2.978430</td>\n",
       "      <td>2.958658</td>\n",
       "      <td>3.696065</td>\n",
       "      <td>3.669978</td>\n",
       "      <td>3.623438</td>\n",
       "      <td>3.601755</td>\n",
       "      <td>NaN</td>\n",
       "      <td>2.152610</td>\n",
       "    </tr>\n",
       "    <tr>\n",
       "      <th>9</th>\n",
       "      <td>2.127824</td>\n",
       "      <td>3.022729</td>\n",
       "      <td>2.129901</td>\n",
       "      <td>3.041991</td>\n",
       "      <td>2.970802</td>\n",
       "      <td>3.643177</td>\n",
       "      <td>2.952688</td>\n",
       "      <td>3.630257</td>\n",
       "      <td>2.152610</td>\n",
       "      <td>NaN</td>\n",
       "    </tr>\n",
       "  </tbody>\n",
       "</table>\n",
       "</div>"
      ],
      "text/plain": [
       "          0         1         2         3         4         5         6   \n",
       "0       NaN  2.115865  2.144302  3.012303  2.094602  2.985432  2.992804  \\\n",
       "1  2.115865       NaN  3.012279  2.104777  3.008661  2.103107  3.662309   \n",
       "2  2.144302  3.012279       NaN  2.155444  2.973626  3.685273  2.103107   \n",
       "3  3.012303  2.104777  2.155444       NaN  3.673513  2.984186  3.004923   \n",
       "4  2.094602  3.008661  2.973626  3.673513       NaN  2.163879  2.096595   \n",
       "5  2.985432  2.103107  3.685273  2.984186  2.163879       NaN  3.012276   \n",
       "6  2.992804  3.662309  2.103107  3.004923  2.096595  3.012276       NaN   \n",
       "7  3.676391  3.004132  2.996903  2.115499  3.012388  2.145948  2.114251   \n",
       "8  3.081190  3.062662  2.978430  2.958658  3.696065  3.669978  3.623438   \n",
       "9  2.127824  3.022729  2.129901  3.041991  2.970802  3.643177  2.952688   \n",
       "\n",
       "          7         8         9  \n",
       "0  3.676391  3.081190  2.127824  \n",
       "1  3.004132  3.062662  3.022729  \n",
       "2  2.996903  2.978430  2.129901  \n",
       "3  2.115499  2.958658  3.041991  \n",
       "4  3.012388  3.696065  2.970802  \n",
       "5  2.145948  3.669978  3.643177  \n",
       "6  2.114251  3.623438  2.952688  \n",
       "7       NaN  3.601755  3.630257  \n",
       "8  3.601755       NaN  2.152610  \n",
       "9  3.630257  2.152610       NaN  "
      ]
     },
     "execution_count": 24,
     "metadata": {},
     "output_type": "execute_result"
    }
   ],
   "source": [
    "distances = get_distances_pbc(coords, 6.4)\n",
    "pd.DataFrame(distances[:10,:10])"
   ]
  },
  {
   "cell_type": "code",
   "execution_count": 25,
   "metadata": {},
   "outputs": [
    {
     "data": {
      "text/plain": [
       "array([6, 6, 6, 6, 6, 6, 6, 6, 6, 6, 6, 6, 4, 6, 6, 6, 6, 6, 6, 6, 6, 6,\n",
       "       6, 6, 6, 6, 6, 6, 6, 6, 6, 6, 6, 6, 6, 6, 6, 6, 6, 6, 6, 6, 6, 6,\n",
       "       6, 6, 6, 6])"
      ]
     },
     "execution_count": 25,
     "metadata": {},
     "output_type": "execute_result"
    }
   ],
   "source": [
    "adj = get_adj_matrix(distances, max_neighbours = 6, max_distance = 3.2)\n",
    "adj.sum(axis=1)"
   ]
  },
  {
   "cell_type": "code",
   "execution_count": 26,
   "metadata": {},
   "outputs": [],
   "source": [
    "data_path = '../structures/'"
   ]
  },
  {
   "cell_type": "code",
   "execution_count": 15,
   "metadata": {},
   "outputs": [],
   "source": [
    "for i in range(1, 202):\n",
    "    structure = f'{i}.vasp'\n",
    "    file = os.path.join(data_path, structure)\n",
    "    df = pd.read_csv(file, header = 5)\n",
    "    df = df.rename(columns = {df.columns[0]: 'Mo C'})\n",
    "    try: \n",
    "        get_composition(df)\n",
    "        coords = get_coords(df)\n",
    "        distances = get_distances_pbc(coords)\n",
    "        get_adj_matrix(distances, max_neighbours = 9, max_distance=6.1)\n",
    "    except: \n",
    "        print('Error in file ' + file)"
   ]
  },
  {
   "cell_type": "code",
   "execution_count": 16,
   "metadata": {},
   "outputs": [],
   "source": [
    "max_min_val = []\n",
    "for i in range(1, 202):\n",
    "    structure = f'{i}.vasp'\n",
    "    file = os.path.join(data_path, structure)\n",
    "    df = pd.read_csv(file, header = 5)\n",
    "    df = df.rename(columns = {df.columns[0]: 'Mo C'})\n",
    " \n",
    "    coords = get_coords(df)\n",
    "    distances = get_distances_pbc(coords, 6.4)\n",
    "    max_min_val.append(np.max(np.nanmin(distances, 0)))"
   ]
  },
  {
   "cell_type": "code",
   "execution_count": 17,
   "metadata": {},
   "outputs": [
    {
     "data": {
      "text/plain": [
       "2.189784934948652"
      ]
     },
     "execution_count": 17,
     "metadata": {},
     "output_type": "execute_result"
    }
   ],
   "source": [
    "max(max_min_val)"
   ]
  },
  {
   "cell_type": "code",
   "execution_count": 18,
   "metadata": {},
   "outputs": [],
   "source": [
    "for i in range(1, 202):\n",
    "    structure = f'{i}.vasp'\n",
    "    file = os.path.join(data_path, structure)\n",
    "    df = pd.read_csv(file, header = 5)\n",
    "    df = df.rename(columns = {df.columns[0]: 'Mo C'})\n",
    "    try: \n",
    "        get_composition(df)\n",
    "        coords = get_coords(df)\n",
    "        distances = get_distances_pbc(coords, 6.4)\n",
    "        sum = get_adj_matrix(distances, max_neighbours = 26, max_distance=3.2).sum(axis=1)\n",
    "        if len(sum[sum == 0 ]) != 0:\n",
    "            print('Problem with file:', structure)\n",
    "    except: \n",
    "        print('Error in file ' + file)"
   ]
  },
  {
   "cell_type": "code",
   "execution_count": 19,
   "metadata": {},
   "outputs": [],
   "source": [
    "df = pd.read_csv('/Users/ed/Documents/PhD_Documents/Metal_carbides/structures/1.vasp', header = 5)\n",
    "df = df.rename(columns = {df.columns[0]: 'Mo C'})\n",
    "coords = get_coords(df=df)\n",
    "distances = get_distances_pbc(coords)"
   ]
  },
  {
   "cell_type": "code",
   "execution_count": 20,
   "metadata": {},
   "outputs": [
    {
     "name": "stdout",
     "output_type": "stream",
     "text": [
      "0 is connected to 8\n"
     ]
    }
   ],
   "source": [
    "adj = get_adj_matrix(distances, max_neighbours = 26, max_distance = 3.11)\n",
    "rc = np.where(adj)\n",
    "r = rc[0][0]\n",
    "c = rc[1][0]\n",
    "print(f'{r} is connected to {c}')"
   ]
  },
  {
   "cell_type": "code",
   "execution_count": 21,
   "metadata": {},
   "outputs": [
    {
     "name": "stdout",
     "output_type": "stream",
     "text": [
      "[-0.00152964  0.00015565 -0.0222713 ] \n",
      "[-0.05539881  2.08404261  2.12956725]\n",
      "[ 0.05386917 -2.08388696 -2.15183855]\n"
     ]
    }
   ],
   "source": [
    "c0 = coords[r]\n",
    "c8 = coords[c]\n",
    "print(f'{c0} \\n{c8}')\n",
    "d0 = - c8 + c0\n",
    "print(d0)"
   ]
  },
  {
   "cell_type": "code",
   "execution_count": 22,
   "metadata": {},
   "outputs": [
    {
     "data": {
      "text/plain": [
       "(None, 'u', 'a')"
      ]
     },
     "execution_count": 22,
     "metadata": {},
     "output_type": "execute_result"
    }
   ],
   "source": [
    "direction_pbc(c0,c8, 6.4)"
   ]
  },
  {
   "cell_type": "code",
   "execution_count": 23,
   "metadata": {},
   "outputs": [
    {
     "data": {
      "text/plain": [
       "array([0., 0., 1., 0., 1., 0.], dtype=float32)"
      ]
     },
     "execution_count": 23,
     "metadata": {},
     "output_type": "execute_result"
    }
   ],
   "source": [
    "edge_features_pbc(c0,c8, 6.4)"
   ]
  },
  {
   "cell_type": "code",
   "execution_count": 25,
   "metadata": {},
   "outputs": [
    {
     "data": {
      "text/plain": [
       "array([[0., 0., 0., 0., 0.],\n",
       "       [0., 0., 0., 0., 0.],\n",
       "       [0., 0., 0., 0., 0.],\n",
       "       [0., 0., 0., 0., 0.],\n",
       "       [0., 0., 0., 0., 0.]])"
      ]
     },
     "execution_count": 25,
     "metadata": {},
     "output_type": "execute_result"
    }
   ],
   "source": [
    "zeros = np.zeros((48,6))\n",
    "zeros[:5,:5]"
   ]
  },
  {
   "cell_type": "code",
   "execution_count": 30,
   "metadata": {},
   "outputs": [],
   "source": [
    "def _get_edge_feats(df):\n",
    "        edge_dist = []\n",
    "        coords = get_coords(df)\n",
    "        distances = get_distances_pbc(coords)\n",
    "        adj = get_adj_matrix(distances, max_neighbours = 26, max_distance = 3.11)\n",
    "        row,col = np.where(adj)\n",
    "        edge_dir = np.zeros((len(row), 6))\n",
    "\n",
    "        for i in range(len(row)):\n",
    "            r = row[i]\n",
    "            c = col[i]\n",
    "            d = distances[r,c]\n",
    "\n",
    "            c1 = coords[r]\n",
    "            c2 = coords[c]\n",
    "            edge_dir[i] = edge_features_pbc(c1, c2, 6.4)\n",
    "\n",
    "            edge_dist.append(d)\n",
    "\n",
    "        edge_dist = np.asarray(edge_dist)\n",
    "        edge_dist = np.expand_dims(edge_dist, axis=1)\n",
    "        edge_feats = np.concatenate([edge_dist, edge_dir], axis = 1)\n",
    "        edge_feats = torch.tensor(edge_feats, dtype=torch.float)\n",
    "        return edge_feats"
   ]
  },
  {
   "cell_type": "code",
   "execution_count": 32,
   "metadata": {},
   "outputs": [
    {
     "name": "stdout",
     "output_type": "stream",
     "text": [
      "torch.Size([528, 7])\n"
     ]
    },
    {
     "data": {
      "text/plain": [
       "tensor([[1.5825, 0.0000, 0.0000,  ..., 0.0000, 1.0000, 0.0000],\n",
       "        [1.6251, 1.0000, 0.0000,  ..., 0.0000, 1.0000, 0.0000],\n",
       "        [1.6020, 1.0000, 0.0000,  ..., 0.0000, 0.0000, 0.0000],\n",
       "        ...,\n",
       "        [1.6256, 0.0000, 0.0000,  ..., 1.0000, 0.0000, 1.0000],\n",
       "        [1.6250, 0.0000, 0.0000,  ..., 1.0000, 1.0000, 0.0000],\n",
       "        [1.6240, 0.0000, 1.0000,  ..., 0.0000, 1.0000, 0.0000]])"
      ]
     },
     "execution_count": 32,
     "metadata": {},
     "output_type": "execute_result"
    }
   ],
   "source": [
    "print(_get_edge_feats(df=df).shape)\n",
    "_get_edge_feats(df=df)"
   ]
  },
  {
   "cell_type": "code",
   "execution_count": 33,
   "metadata": {},
   "outputs": [
    {
     "data": {
      "text/plain": [
       "tensor([[0., 0., 0., 0., 0., 1.],\n",
       "        [0., 1., 0., 0., 0., 0.],\n",
       "        [0., 0., 1., 0., 0., 1.],\n",
       "        ...,\n",
       "        [1., 0., 0., 1., 0., 0.],\n",
       "        [0., 1., 1., 0., 0., 0.],\n",
       "        [1., 0., 1., 0., 0., 0.]])"
      ]
     },
     "execution_count": 33,
     "metadata": {},
     "output_type": "execute_result"
    }
   ],
   "source": [
    "data[0].edge_attr"
   ]
  },
  {
   "cell_type": "code",
   "execution_count": 34,
   "metadata": {},
   "outputs": [
    {
     "data": {
      "text/plain": [
       "tensor([0, 0, 0, 0, 0, 0, 0, 0, 0, 0])"
      ]
     },
     "execution_count": 34,
     "metadata": {},
     "output_type": "execute_result"
    }
   ],
   "source": [
    "data[5].edge_index[0][:10]"
   ]
  },
  {
   "cell_type": "code",
   "execution_count": 35,
   "metadata": {},
   "outputs": [
    {
     "data": {
      "text/plain": [
       "tensor([[0., 0., 0., 1., 0., 0.],\n",
       "        [0., 0., 0., 1., 0., 1.],\n",
       "        [0., 1., 0., 0., 1., 0.],\n",
       "        [0., 1., 0., 0., 0., 1.],\n",
       "        [0., 1., 0., 1., 0., 1.]])"
      ]
     },
     "execution_count": 35,
     "metadata": {},
     "output_type": "execute_result"
    }
   ],
   "source": [
    "data[5].edge_attr[:5]"
   ]
  },
  {
   "cell_type": "code",
   "execution_count": 41,
   "metadata": {},
   "outputs": [
    {
     "data": {
      "text/plain": [
       "(201, 1)"
      ]
     },
     "execution_count": 41,
     "metadata": {},
     "output_type": "execute_result"
    }
   ],
   "source": [
    "energy = pd.read_csv('/Users/ed/Documents/PhD_Documents/Metal_carbides/E_data/cell.features.dat', sep= ' ', usecols=[0])\n",
    "energy = energy.to_numpy()\n",
    "energy.shape\n"
   ]
  },
  {
   "cell_type": "code",
   "execution_count": 45,
   "metadata": {},
   "outputs": [
    {
     "data": {
      "text/plain": [
       "tensor([2.5979], dtype=torch.float64)"
      ]
     },
     "execution_count": 45,
     "metadata": {},
     "output_type": "execute_result"
    }
   ],
   "source": [
    "data[167].y"
   ]
  },
  {
   "cell_type": "code",
   "execution_count": 44,
   "metadata": {},
   "outputs": [
    {
     "data": {
      "text/plain": [
       "array([2.59789907])"
      ]
     },
     "execution_count": 44,
     "metadata": {},
     "output_type": "execute_result"
    }
   ],
   "source": [
    "e = (energy-np.min(energy))*13.605693122994\n",
    "e[167]"
   ]
  }
 ],
 "metadata": {
  "kernelspec": {
   "display_name": "torchChem",
   "language": "python",
   "name": "python3"
  },
  "language_info": {
   "codemirror_mode": {
    "name": "ipython",
    "version": 3
   },
   "file_extension": ".py",
   "mimetype": "text/x-python",
   "name": "python",
   "nbconvert_exporter": "python",
   "pygments_lexer": "ipython3",
   "version": "3.8.17"
  },
  "orig_nbformat": 4,
  "vscode": {
   "interpreter": {
    "hash": "a8c1d358141dd5f5aee27d895a71e983bd947816167b1f58ab3ec2e331871cfe"
   }
  }
 },
 "nbformat": 4,
 "nbformat_minor": 2
}
